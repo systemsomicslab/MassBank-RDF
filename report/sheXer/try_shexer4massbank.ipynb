{
  "nbformat": 4,
  "nbformat_minor": 0,
  "metadata": {
    "colab": {
      "provenance": []
    },
    "kernelspec": {
      "name": "python3",
      "display_name": "Python 3"
    },
    "language_info": {
      "name": "python"
    }
  },
  "cells": [
    {
      "cell_type": "code",
      "execution_count": null,
      "metadata": {
        "colab": {
          "base_uri": "https://localhost:8080/"
        },
        "id": "9M6Ms_iqbo3g",
        "outputId": "95ce75be-9ecd-4636-f5c1-358da516ba78"
      },
      "outputs": [
        {
          "output_type": "stream",
          "name": "stdout",
          "text": [
            "Collecting shexer\n",
            "  Downloading shexer-2.5.4-py3-none-any.whl.metadata (28 kB)\n",
            "Requirement already satisfied: Flask in /usr/local/lib/python3.10/dist-packages (from shexer) (2.2.5)\n",
            "Collecting Flask-Cors (from shexer)\n",
            "  Downloading Flask_Cors-4.0.1-py2.py3-none-any.whl.metadata (5.5 kB)\n",
            "Collecting rdflib (from shexer)\n",
            "  Downloading rdflib-7.0.0-py3-none-any.whl.metadata (11 kB)\n",
            "Collecting SPARQLWrapper (from shexer)\n",
            "  Downloading SPARQLWrapper-2.0.0-py3-none-any.whl.metadata (2.0 kB)\n",
            "Collecting wlighter (from shexer)\n",
            "  Downloading wlighter-1.0.1.tar.gz (5.1 kB)\n",
            "  Preparing metadata (setup.py) ... \u001b[?25l\u001b[?25hdone\n",
            "Collecting plantuml (from shexer)\n",
            "  Downloading plantuml-0.3.0-py3-none-any.whl.metadata (2.5 kB)\n",
            "Collecting python-xz (from shexer)\n",
            "  Downloading python_xz-0.5.0-py3-none-any.whl.metadata (8.5 kB)\n",
            "Requirement already satisfied: Werkzeug>=2.2.2 in /usr/local/lib/python3.10/dist-packages (from Flask->shexer) (3.0.3)\n",
            "Requirement already satisfied: Jinja2>=3.0 in /usr/local/lib/python3.10/dist-packages (from Flask->shexer) (3.1.4)\n",
            "Requirement already satisfied: itsdangerous>=2.0 in /usr/local/lib/python3.10/dist-packages (from Flask->shexer) (2.2.0)\n",
            "Requirement already satisfied: click>=8.0 in /usr/local/lib/python3.10/dist-packages (from Flask->shexer) (8.1.7)\n",
            "Requirement already satisfied: httplib2 in /usr/local/lib/python3.10/dist-packages (from plantuml->shexer) (0.22.0)\n",
            "Collecting isodate<0.7.0,>=0.6.0 (from rdflib->shexer)\n",
            "  Downloading isodate-0.6.1-py2.py3-none-any.whl.metadata (9.6 kB)\n",
            "Requirement already satisfied: pyparsing<4,>=2.1.0 in /usr/local/lib/python3.10/dist-packages (from rdflib->shexer) (3.1.2)\n",
            "Requirement already satisfied: requests in /usr/local/lib/python3.10/dist-packages (from wlighter->shexer) (2.32.3)\n",
            "Requirement already satisfied: six in /usr/local/lib/python3.10/dist-packages (from isodate<0.7.0,>=0.6.0->rdflib->shexer) (1.16.0)\n",
            "Requirement already satisfied: MarkupSafe>=2.0 in /usr/local/lib/python3.10/dist-packages (from Jinja2>=3.0->Flask->shexer) (2.1.5)\n",
            "Requirement already satisfied: charset-normalizer<4,>=2 in /usr/local/lib/python3.10/dist-packages (from requests->wlighter->shexer) (3.3.2)\n",
            "Requirement already satisfied: idna<4,>=2.5 in /usr/local/lib/python3.10/dist-packages (from requests->wlighter->shexer) (3.7)\n",
            "Requirement already satisfied: urllib3<3,>=1.21.1 in /usr/local/lib/python3.10/dist-packages (from requests->wlighter->shexer) (2.0.7)\n",
            "Requirement already satisfied: certifi>=2017.4.17 in /usr/local/lib/python3.10/dist-packages (from requests->wlighter->shexer) (2024.7.4)\n",
            "Downloading shexer-2.5.4-py3-none-any.whl (165 kB)\n",
            "\u001b[2K   \u001b[90m━━━━━━━━━━━━━━━━━━━━━━━━━━━━━━━━━━━━━━━━\u001b[0m \u001b[32m165.4/165.4 kB\u001b[0m \u001b[31m7.0 MB/s\u001b[0m eta \u001b[36m0:00:00\u001b[0m\n",
            "\u001b[?25hDownloading Flask_Cors-4.0.1-py2.py3-none-any.whl (14 kB)\n",
            "Downloading plantuml-0.3.0-py3-none-any.whl (5.8 kB)\n",
            "Downloading python_xz-0.5.0-py3-none-any.whl (20 kB)\n",
            "Downloading rdflib-7.0.0-py3-none-any.whl (531 kB)\n",
            "\u001b[2K   \u001b[90m━━━━━━━━━━━━━━━━━━━━━━━━━━━━━━━━━━━━━━━━\u001b[0m \u001b[32m531.9/531.9 kB\u001b[0m \u001b[31m16.5 MB/s\u001b[0m eta \u001b[36m0:00:00\u001b[0m\n",
            "\u001b[?25hDownloading SPARQLWrapper-2.0.0-py3-none-any.whl (28 kB)\n",
            "Downloading isodate-0.6.1-py2.py3-none-any.whl (41 kB)\n",
            "\u001b[2K   \u001b[90m━━━━━━━━━━━━━━━━━━━━━━━━━━━━━━━━━━━━━━━━\u001b[0m \u001b[32m41.7/41.7 kB\u001b[0m \u001b[31m2.0 MB/s\u001b[0m eta \u001b[36m0:00:00\u001b[0m\n",
            "\u001b[?25hBuilding wheels for collected packages: wlighter\n",
            "  Building wheel for wlighter (setup.py) ... \u001b[?25l\u001b[?25hdone\n",
            "  Created wheel for wlighter: filename=wlighter-1.0.1-py3-none-any.whl size=5841 sha256=05e07030f657c825fe9958eb641030daddccd3c83d40a12cd4909b7f075448a6\n",
            "  Stored in directory: /root/.cache/pip/wheels/fb/ad/32/6ddbe06c35ae42613142a23fce188fe01d4a8285a2aec47db8\n",
            "Successfully built wlighter\n",
            "Installing collected packages: python-xz, isodate, wlighter, rdflib, plantuml, SPARQLWrapper, Flask-Cors, shexer\n",
            "Successfully installed Flask-Cors-4.0.1 SPARQLWrapper-2.0.0 isodate-0.6.1 plantuml-0.3.0 python-xz-0.5.0 rdflib-7.0.0 shexer-2.5.4 wlighter-1.0.1\n"
          ]
        }
      ],
      "source": [
        "pip install shexer"
      ]
    },
    {
      "cell_type": "code",
      "source": [
        "from shexer.shaper import Shaper\n",
        "from shexer.consts import TURTLE"
      ],
      "metadata": {
        "id": "CeP1Tl17b8fY"
      },
      "execution_count": null,
      "outputs": []
    },
    {
      "cell_type": "code",
      "source": [
        "# Namespace-prefix pair to prettify the results\n",
        "namespaces_dict = {\"http://www.w3.org/1999/02/22-rdf-syntax-ns#\": \"rdf\",\n",
        "                   \"http://example.org/\": \"ex\",\n",
        "                   \"http://weso.es/shapes/\": \"\",\n",
        "                   \"http://www.w3.org/2001/XMLSchema#\": \"xsd\",\n",
        "                   \"http://www.w3.org/2002/07/owl#\" : \"owl\"\n",
        "                   }"
      ],
      "metadata": {
        "id": "kEr7hADXcKEB"
      },
      "execution_count": null,
      "outputs": []
    },
    {
      "cell_type": "code",
      "source": [
        "!wget https://github.com/systemsomicslab/MassBank-RDF/raw/main/draft_ttl/oka/RIKEN_IMS_CM.ttl\n",
        "!wget https://github.com/systemsomicslab/MassBank-RDF/raw/main/draft_ttl/oka/RIKEN_IMS_DE.ttl\n",
        "!wget https://github.com/systemsomicslab/MassBank-RDF/raw/main/draft_ttl/oka/RIKEN_IMS_EX.ttl\n",
        "!wget https://github.com/systemsomicslab/MassBank-RDF/raw/main/draft_ttl/oka/RIKEN_IMS_PK.ttl\n",
        "!wget https://github.com/systemsomicslab/MassBank-RDF/raw/main/draft_ttl/oka/RIKEN_IMS_PR.ttl\n",
        "!wget https://github.com/systemsomicslab/MassBank-RDF/raw/main/draft_ttl/oka/RIKEN_IMS_SP.ttl"
      ],
      "metadata": {
        "colab": {
          "base_uri": "https://localhost:8080/"
        },
        "id": "vE45-LSXcQFo",
        "outputId": "615bca0f-6453-47d0-e6d4-a8ae76ba25a8"
      },
      "execution_count": null,
      "outputs": [
        {
          "output_type": "stream",
          "name": "stdout",
          "text": [
            "--2024-08-26 06:54:01--  https://github.com/systemsomicslab/MassBank-RDF/raw/main/draft_ttl/oka/RIKEN_IMS_CM.ttl\n",
            "Resolving github.com (github.com)... 140.82.121.3\n",
            "Connecting to github.com (github.com)|140.82.121.3|:443... connected.\n",
            "HTTP request sent, awaiting response... 302 Found\n",
            "Location: https://raw.githubusercontent.com/systemsomicslab/MassBank-RDF/main/draft_ttl/oka/RIKEN_IMS_CM.ttl [following]\n",
            "--2024-08-26 06:54:01--  https://raw.githubusercontent.com/systemsomicslab/MassBank-RDF/main/draft_ttl/oka/RIKEN_IMS_CM.ttl\n",
            "Resolving raw.githubusercontent.com (raw.githubusercontent.com)... 185.199.108.133, 185.199.109.133, 185.199.110.133, ...\n",
            "Connecting to raw.githubusercontent.com (raw.githubusercontent.com)|185.199.108.133|:443... connected.\n",
            "HTTP request sent, awaiting response... 200 OK\n",
            "Length: 223812 (219K) [text/plain]\n",
            "Saving to: ‘RIKEN_IMS_CM.ttl’\n",
            "\n",
            "RIKEN_IMS_CM.ttl    100%[===================>] 218.57K  --.-KB/s    in 0.01s   \n",
            "\n",
            "2024-08-26 06:54:02 (16.8 MB/s) - ‘RIKEN_IMS_CM.ttl’ saved [223812/223812]\n",
            "\n",
            "--2024-08-26 06:54:02--  https://github.com/systemsomicslab/MassBank-RDF/raw/main/draft_ttl/oka/RIKEN_IMS_DE.ttl\n",
            "Resolving github.com (github.com)... 140.82.121.3\n",
            "Connecting to github.com (github.com)|140.82.121.3|:443... connected.\n",
            "HTTP request sent, awaiting response... 302 Found\n",
            "Location: https://raw.githubusercontent.com/systemsomicslab/MassBank-RDF/main/draft_ttl/oka/RIKEN_IMS_DE.ttl [following]\n",
            "--2024-08-26 06:54:02--  https://raw.githubusercontent.com/systemsomicslab/MassBank-RDF/main/draft_ttl/oka/RIKEN_IMS_DE.ttl\n",
            "Resolving raw.githubusercontent.com (raw.githubusercontent.com)... 185.199.110.133, 185.199.109.133, 185.199.111.133, ...\n",
            "Connecting to raw.githubusercontent.com (raw.githubusercontent.com)|185.199.110.133|:443... connected.\n",
            "HTTP request sent, awaiting response... 200 OK\n",
            "Length: 1064203 (1.0M) [text/plain]\n",
            "Saving to: ‘RIKEN_IMS_DE.ttl’\n",
            "\n",
            "RIKEN_IMS_DE.ttl    100%[===================>]   1.01M  --.-KB/s    in 0.02s   \n",
            "\n",
            "2024-08-26 06:54:02 (44.8 MB/s) - ‘RIKEN_IMS_DE.ttl’ saved [1064203/1064203]\n",
            "\n",
            "--2024-08-26 06:54:02--  https://github.com/systemsomicslab/MassBank-RDF/raw/main/draft_ttl/oka/RIKEN_IMS_EX.ttl\n",
            "Resolving github.com (github.com)... 140.82.121.4\n",
            "Connecting to github.com (github.com)|140.82.121.4|:443... connected.\n",
            "HTTP request sent, awaiting response... 302 Found\n",
            "Location: https://raw.githubusercontent.com/systemsomicslab/MassBank-RDF/main/draft_ttl/oka/RIKEN_IMS_EX.ttl [following]\n",
            "--2024-08-26 06:54:02--  https://raw.githubusercontent.com/systemsomicslab/MassBank-RDF/main/draft_ttl/oka/RIKEN_IMS_EX.ttl\n",
            "Resolving raw.githubusercontent.com (raw.githubusercontent.com)... 185.199.108.133, 185.199.109.133, 185.199.110.133, ...\n",
            "Connecting to raw.githubusercontent.com (raw.githubusercontent.com)|185.199.108.133|:443... connected.\n",
            "HTTP request sent, awaiting response... 200 OK\n",
            "Length: 308172 (301K) [text/plain]\n",
            "Saving to: ‘RIKEN_IMS_EX.ttl’\n",
            "\n",
            "RIKEN_IMS_EX.ttl    100%[===================>] 300.95K  --.-KB/s    in 0.02s   \n",
            "\n",
            "2024-08-26 06:54:03 (19.2 MB/s) - ‘RIKEN_IMS_EX.ttl’ saved [308172/308172]\n",
            "\n",
            "--2024-08-26 06:54:03--  https://github.com/systemsomicslab/MassBank-RDF/raw/main/draft_ttl/oka/RIKEN_IMS_PK.ttl\n",
            "Resolving github.com (github.com)... 140.82.121.4\n",
            "Connecting to github.com (github.com)|140.82.121.4|:443... connected.\n",
            "HTTP request sent, awaiting response... 302 Found\n",
            "Location: https://raw.githubusercontent.com/systemsomicslab/MassBank-RDF/main/draft_ttl/oka/RIKEN_IMS_PK.ttl [following]\n",
            "--2024-08-26 06:54:03--  https://raw.githubusercontent.com/systemsomicslab/MassBank-RDF/main/draft_ttl/oka/RIKEN_IMS_PK.ttl\n",
            "Resolving raw.githubusercontent.com (raw.githubusercontent.com)... 185.199.109.133, 185.199.110.133, 185.199.111.133, ...\n",
            "Connecting to raw.githubusercontent.com (raw.githubusercontent.com)|185.199.109.133|:443... connected.\n",
            "HTTP request sent, awaiting response... 200 OK\n",
            "Length: 22729331 (22M) [text/plain]\n",
            "Saving to: ‘RIKEN_IMS_PK.ttl’\n",
            "\n",
            "RIKEN_IMS_PK.ttl    100%[===================>]  21.68M  --.-KB/s    in 0.1s    \n",
            "\n",
            "2024-08-26 06:54:04 (221 MB/s) - ‘RIKEN_IMS_PK.ttl’ saved [22729331/22729331]\n",
            "\n",
            "--2024-08-26 06:54:04--  https://github.com/systemsomicslab/MassBank-RDF/raw/main/draft_ttl/oka/RIKEN_IMS_PR.ttl\n",
            "Resolving github.com (github.com)... 140.82.121.4\n",
            "Connecting to github.com (github.com)|140.82.121.4|:443... connected.\n",
            "HTTP request sent, awaiting response... 302 Found\n",
            "Location: https://raw.githubusercontent.com/systemsomicslab/MassBank-RDF/main/draft_ttl/oka/RIKEN_IMS_PR.ttl [following]\n",
            "--2024-08-26 06:54:05--  https://raw.githubusercontent.com/systemsomicslab/MassBank-RDF/main/draft_ttl/oka/RIKEN_IMS_PR.ttl\n",
            "Resolving raw.githubusercontent.com (raw.githubusercontent.com)... 185.199.108.133, 185.199.109.133, 185.199.110.133, ...\n",
            "Connecting to raw.githubusercontent.com (raw.githubusercontent.com)|185.199.108.133|:443... connected.\n",
            "HTTP request sent, awaiting response... 200 OK\n",
            "Length: 623594 (609K) [text/plain]\n",
            "Saving to: ‘RIKEN_IMS_PR.ttl’\n",
            "\n",
            "RIKEN_IMS_PR.ttl    100%[===================>] 608.98K  --.-KB/s    in 0.02s   \n",
            "\n",
            "2024-08-26 06:54:05 (31.0 MB/s) - ‘RIKEN_IMS_PR.ttl’ saved [623594/623594]\n",
            "\n",
            "--2024-08-26 06:54:05--  https://github.com/systemsomicslab/MassBank-RDF/raw/main/draft_ttl/oka/RIKEN_IMS_SP.ttl\n",
            "Resolving github.com (github.com)... 140.82.121.4\n",
            "Connecting to github.com (github.com)|140.82.121.4|:443... connected.\n",
            "HTTP request sent, awaiting response... 302 Found\n",
            "Location: https://raw.githubusercontent.com/systemsomicslab/MassBank-RDF/main/draft_ttl/oka/RIKEN_IMS_SP.ttl [following]\n",
            "--2024-08-26 06:54:05--  https://raw.githubusercontent.com/systemsomicslab/MassBank-RDF/main/draft_ttl/oka/RIKEN_IMS_SP.ttl\n",
            "Resolving raw.githubusercontent.com (raw.githubusercontent.com)... 185.199.109.133, 185.199.110.133, 185.199.111.133, ...\n",
            "Connecting to raw.githubusercontent.com (raw.githubusercontent.com)|185.199.109.133|:443... connected.\n",
            "HTTP request sent, awaiting response... 200 OK\n",
            "Length: 223724 (218K) [text/plain]\n",
            "Saving to: ‘RIKEN_IMS_SP.ttl’\n",
            "\n",
            "RIKEN_IMS_SP.ttl    100%[===================>] 218.48K  --.-KB/s    in 0.01s   \n",
            "\n",
            "2024-08-26 06:54:05 (17.9 MB/s) - ‘RIKEN_IMS_SP.ttl’ saved [223724/223724]\n",
            "\n"
          ]
        }
      ]
    },
    {
      "cell_type": "code",
      "source": [
        "#In this case I've used a list of files so they are trated as a single file, but there are different ways to set inputs\n",
        "a_list = [r\"/content/RIKEN_IMS_CM.ttl\",\n",
        "          r\"/content/RIKEN_IMS_DE.ttl\",\n",
        "          r\"/content/RIKEN_IMS_EX.ttl\",\n",
        "          r\"/content/RIKEN_IMS_PK.ttl\",\n",
        "          r\"/content/RIKEN_IMS_PR.ttl\",\n",
        "          r\"/content/RIKEN_IMS_SP.ttl\",]\n"
      ],
      "metadata": {
        "id": "P60lMQuycMhs"
      },
      "execution_count": null,
      "outputs": []
    },
    {
      "cell_type": "code",
      "source": [
        "shaper = Shaper(all_classes_mode=True,\n",
        "                graph_list_of_files_input=a_list,\n",
        "                input_format=TURTLE,\n",
        "                namespaces_dict=namespaces_dict)  # Default rdf:type"
      ],
      "metadata": {
        "id": "Q8pH-PFCeCUR"
      },
      "execution_count": null,
      "outputs": []
    },
    {
      "cell_type": "code",
      "source": [
        "result = shaper.shex_graph(string_output=True,\n",
        "                           acceptance_threshold=0.1,\n",
        "                           to_uml_path=\"oka.png\")\n",
        "print(result)\n",
        "\n",
        "print(\"Done!\")"
      ],
      "metadata": {
        "colab": {
          "base_uri": "https://localhost:8080/"
        },
        "id": "tTKVxBh6eFsu",
        "outputId": "992c2985-5107-4cd6-9e7e-f387d27be4d9"
      },
      "execution_count": null,
      "outputs": [
        {
          "output_type": "stream",
          "name": "stdout",
          "text": [
            "PREFIX rdf: <http://www.w3.org/1999/02/22-rdf-syntax-ns#>\n",
            "PREFIX ex: <http://example.org/>\n",
            "PREFIX weso-s: <http://weso.es/shapes/>\n",
            "PREFIX xsd: <http://www.w3.org/2001/XMLSchema#>\n",
            "PREFIX owl: <http://www.w3.org/2002/07/owl#>\n",
            "\n",
            "weso-s:SIO_011125\n",
            "{\n",
            "   rdf:type  [<http://semanticscience.org/resource/SIO_011125>]  ;          # 100.0 %\n",
            "   <http://semanticscience.org/resource/SIO_000008>  @weso-s:SIO_011120  ;          # 100.0 %\n",
            "   <http://semanticscience.org/resource/SIO_000231>  @weso-s:SIO_001180            # 100.0 %\n",
            "}\n",
            "\n",
            "\n",
            "weso-s:SIO_011120\n",
            "{\n",
            "   rdf:type  [<http://semanticscience.org/resource/SIO_011120>]  ;          # 100.0 %\n",
            "   <http://www.massbank.jp/ontology/has_descriptor>  @<BNode>  {7}          # 100.0 %\n",
            "}\n",
            "\n",
            "\n",
            "weso-s:SIO_001180\n",
            "{\n",
            "   rdf:type  [<http://semanticscience.org/resource/SIO_001180>]  ;          # 100.0 %\n",
            "   <http://semanticscience.org/resource/SIO_000230>  @weso-s:SIO_011125  ;          # 100.0 %\n",
            "   <http://semanticscience.org/resource/SIO_000552>  @weso-s:MS_1000740  ;          # 100.0 %\n",
            "   <http://semanticscience.org/resource/SIO_000229>  @weso-s:MS_1000294  ;          # 100.0 %\n",
            "   <http://semanticscience.org/resource/SIO_000066>  IRI            # 100.0 %\n",
            "}\n",
            "\n",
            "\n",
            "weso-s:MS_1000580\n",
            "{\n",
            "   rdf:type  [<http://purl.obolibrary.org/obo/MS_1000580>]  ;          # 100.0 %\n",
            "   <http://www.massbank.jp/ontology/has_peak>  @<BNode>  +          # 100.0 %\n",
            "}\n",
            "\n",
            "\n",
            "weso-s:MS_1000740\n",
            "{\n",
            "   rdf:type  [<http://purl.obolibrary.org/obo/MS_1000740>]  ;          # 100.0 %\n",
            "   <http://www.massbank.jp/ontology/has_parameter>  @<BNode>  {6}          # 100.0 %\n",
            "}\n",
            "\n",
            "\n",
            "weso-s:MS_1000294\n",
            "{\n",
            "   <http://semanticscience.org/resource/SIO_000300>  xsd:decimal  ;          # 100.0 %\n",
            "   rdf:type  [<http://purl.obolibrary.org/obo/MS_1000294>]  ;          # 100.0 %\n",
            "   <http://semanticscience.org/resource/SIO_000232>  @weso-s:SIO_001180  ;          # 100.0 %\n",
            "   <http://semanticscience.org/resource/SIO_000369>  @weso-s:MS_1000580            # 100.0 %\n",
            "}\n",
            "\n",
            "\n",
            "\n",
            "Done!\n"
          ]
        }
      ]
    },
    {
      "cell_type": "code",
      "source": [],
      "metadata": {
        "id": "D4uBs9sMeHRp"
      },
      "execution_count": null,
      "outputs": []
    }
  ]
}